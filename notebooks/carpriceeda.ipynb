{
 "cells": [
  {
   "cell_type": "code",
   "execution_count": 1,
   "id": "5991e20d",
   "metadata": {},
   "outputs": [
    {
     "ename": "ArgumentError",
     "evalue": "ArgumentError: Package pandas not found in current path.\n- Run `import Pkg; Pkg.add(\"pandas\")` to install the pandas package.",
     "output_type": "error",
     "traceback": [
      "ArgumentError: Package pandas not found in current path.\n",
      "- Run `import Pkg; Pkg.add(\"pandas\")` to install the pandas package.\n",
      "\n",
      "Stacktrace:\n",
      "  [1] macro expansion\n",
      "    @ .\\loading.jl:2296 [inlined]\n",
      "  [2] macro expansion\n",
      "    @ .\\lock.jl:273 [inlined]\n",
      "  [3] __require(into::Module, mod::Symbol)\n",
      "    @ Base .\\loading.jl:2271\n",
      "  [4] #invoke_in_world#3\n",
      "    @ .\\essentials.jl:1089 [inlined]\n",
      "  [5] invoke_in_world\n",
      "    @ .\\essentials.jl:1086 [inlined]\n",
      "  [6] require(into::Module, mod::Symbol)\n",
      "    @ Base .\\loading.jl:2260\n",
      "  [7] eval\n",
      "    @ .\\boot.jl:430 [inlined]\n",
      "  [8] include_string(mapexpr::typeof(REPL.softscope), mod::Module, code::String, filename::String)\n",
      "    @ Base .\\loading.jl:2734\n",
      "  [9] #invokelatest#2\n",
      "    @ .\\essentials.jl:1055 [inlined]\n",
      " [10] invokelatest\n",
      "    @ .\\essentials.jl:1052 [inlined]\n",
      " [11] (::VSCodeServer.var\"#217#218\"{VSCodeServer.NotebookRunCellArguments, String})()\n",
      "    @ VSCodeServer c:\\Users\\legit\\.vscode\\extensions\\julialang.language-julia-1.149.2\\scripts\\packages\\VSCodeServer\\src\\serve_notebook.jl:24\n",
      " [12] withpath(f::VSCodeServer.var\"#217#218\"{VSCodeServer.NotebookRunCellArguments, String}, path::String)\n",
      "    @ VSCodeServer c:\\Users\\legit\\.vscode\\extensions\\julialang.language-julia-1.149.2\\scripts\\packages\\VSCodeServer\\src\\repl.jl:276\n",
      " [13] notebook_runcell_request(conn::VSCodeServer.JSONRPC.JSONRPCEndpoint{Base.PipeEndpoint, Base.PipeEndpoint, VSCodeServer.JSON.Serializations.StandardSerialization}, params::VSCodeServer.NotebookRunCellArguments, token::VSCodeServer.CancellationTokens.CancellationToken)\n",
      "    @ VSCodeServer c:\\Users\\legit\\.vscode\\extensions\\julialang.language-julia-1.149.2\\scripts\\packages\\VSCodeServer\\src\\serve_notebook.jl:13\n",
      " [14] dispatch_msg(x::VSCodeServer.JSONRPC.JSONRPCEndpoint{Base.PipeEndpoint, Base.PipeEndpoint, VSCodeServer.JSON.Serializations.StandardSerialization}, dispatcher::VSCodeServer.JSONRPC.MsgDispatcher, msg::VSCodeServer.JSONRPC.Request)\n",
      "    @ VSCodeServer.JSONRPC c:\\Users\\legit\\.vscode\\extensions\\julialang.language-julia-1.149.2\\scripts\\packages\\JSONRPC\\src\\typed.jl:68\n",
      " [15] serve_notebook(pipename::String, debugger_pipename::String, outputchannel_logger::Base.CoreLogging.SimpleLogger; error_handler::var\"#5#10\"{String})\n",
      "    @ VSCodeServer c:\\Users\\legit\\.vscode\\extensions\\julialang.language-julia-1.149.2\\scripts\\packages\\VSCodeServer\\src\\serve_notebook.jl:147\n",
      " [16] top-level scope\n",
      "    @ c:\\Users\\legit\\.vscode\\extensions\\julialang.language-julia-1.149.2\\scripts\\notebook\\notebook.jl:35"
     ]
    }
   ],
   "source": [
    "import pandas as pd\n",
    "import seaborn as sns\n",
    "import matplotlib.pyplot as plt\n",
    "\n",
    "df = pd.read_csv('../data/car_data.csv')\n",
    "df.head()\n"
   ]
  },
  {
   "cell_type": "code",
   "execution_count": null,
   "id": "02139a9a",
   "metadata": {},
   "outputs": [],
   "source": []
  },
  {
   "cell_type": "code",
   "execution_count": null,
   "id": "2e52ed96",
   "metadata": {},
   "outputs": [],
   "source": []
  },
  {
   "cell_type": "code",
   "execution_count": null,
   "id": "953982d2",
   "metadata": {},
   "outputs": [],
   "source": []
  }
 ],
 "metadata": {
  "kernelspec": {
   "display_name": "Julia 1.11.3",
   "language": "julia",
   "name": "julia-1.11"
  },
  "language_info": {
   "file_extension": ".jl",
   "mimetype": "application/julia",
   "name": "julia",
   "version": "1.11.3"
  }
 },
 "nbformat": 4,
 "nbformat_minor": 5
}
